{
 "cells": [
  {
   "cell_type": "markdown",
   "id": "2dde7d0b",
   "metadata": {},
   "source": [
    "# Functions"
   ]
  },
  {
   "cell_type": "markdown",
   "id": "7c28934e",
   "metadata": {},
   "source": [
    "* The purpose of Functions is that \" To Perform Certain Operation /Task and Provides Code Re-Usability\".\n",
    "* There are two steps in creating a function, defining a function and calling the function."
   ]
  },
  {
   "cell_type": "markdown",
   "id": "5c267393",
   "metadata": {},
   "source": [
    "**syntax** for defining a function :\n",
    "\n",
    "\n",
    "                         def func_name(parameter/s):\n",
    "                             block of code"
   ]
  },
  {
   "cell_type": "markdown",
   "id": "d9b6fb6d",
   "metadata": {},
   "source": [
    "* def is a keyword, which tells the interpretor that we are defining a function\n",
    "* func_name is name we give to the function we are defining, it acts as a variable name to the block of code we are writing\n",
    "* parameter these can be considered as the variables we use to write/define our function"
   ]
  },
  {
   "cell_type": "markdown",
   "id": "f42e8ace",
   "metadata": {},
   "source": [
    "**Syntax** for calling a function:\n",
    "\n",
    "\n",
    "                       fun_name(arg/s)\n",
    "                       \n",
    "                       \n",
    "* arg/s are actual inputs for function"
   ]
  },
  {
   "cell_type": "code",
   "execution_count": 5,
   "id": "7fd2284a",
   "metadata": {},
   "outputs": [
    {
     "name": "stdout",
     "output_type": "stream",
     "text": [
      "7\n"
     ]
    }
   ],
   "source": [
    "# function defining\n",
    "def add_(a,b):\n",
    "    print(a+b)\n",
    "    \n",
    "    \n",
    "# function calling\n",
    "add_(1,6)"
   ]
  },
  {
   "cell_type": "code",
   "execution_count": 6,
   "id": "814d99cc",
   "metadata": {},
   "outputs": [
    {
     "name": "stdout",
     "output_type": "stream",
     "text": [
      "18\n"
     ]
    }
   ],
   "source": [
    "add_(10,8)"
   ]
  },
  {
   "cell_type": "markdown",
   "id": "5fe0e4b8",
   "metadata": {},
   "source": [
    "# Parameters and Arguments"
   ]
  },
  {
   "cell_type": "markdown",
   "id": "c6b9ebfe",
   "metadata": {},
   "source": [
    "## parameter"
   ]
  },
  {
   "cell_type": "markdown",
   "id": "f1c8fb2b",
   "metadata": {},
   "source": [
    "* The variables used in Function Heading are called Formal Parameters and They are used for Storing  the inputs coming Function Calls.\n",
    "* The Variables Used in Function Body are called Local Variables / Parameters and They are used for Storing Temporary Results / Function Processing Logic Results.\n",
    "* The Values Formal Parameters and Local parameters can be accessed within corresponding Function Definition but not possible to access in Other Part of the Program "
   ]
  },
  {
   "cell_type": "markdown",
   "id": "23c775c6",
   "metadata": {},
   "source": [
    "def sumop(a,b):  # Here a, b are called Formal parameters  <br>\n",
    "      c=a+b  # Here c is local Parameter/Variable"
   ]
  },
  {
   "cell_type": "markdown",
   "id": "a83add6c",
   "metadata": {},
   "source": [
    "## Arguments"
   ]
  },
  {
   "cell_type": "markdown",
   "id": "b3f03fc3",
   "metadata": {},
   "source": [
    "* Arguments are the variables / Values which are used as Variables in Function Calls.\n",
    "* Examples:sumop(10,20)  # Here 10 20 are called Argument Values<br>\n",
    "\t\t\t\t(OR)\n",
    "\t\t\t\t a=10\n",
    "\t\t\t\t b=20\n",
    "\tsumop(a,b) # Here a,b are called Arguments (Actual variables OR Parameters)<br>\n",
    "* The relationship between Arguments and Parameters is that all the Values of arguments are passing to Parameters. This Mechanism is called Arguments Passing."
   ]
  },
  {
   "cell_type": "markdown",
   "id": "8b5cee16",
   "metadata": {},
   "source": [
    "##### Based on Passing argument Values from Function calls to Parameters of Function Heading, The Arguments are classified into 5 types. They are\n",
    "\n",
    "\t\t\t1. Possitional Arguments\n",
    "\t\t\t2. Default Arguments\n",
    "\t\t\t3. Keyword Arguments\n",
    "\t\t\t4. Variable Length Arguments\n",
    "\t\t\t5. Keyword  Variable Length Arguments"
   ]
  },
  {
   "cell_type": "markdown",
   "id": "51dc3ebc",
   "metadata": {},
   "source": [
    "**1.Positional Argument**"
   ]
  },
  {
   "cell_type": "markdown",
   "id": "dbe1fdd4",
   "metadata": {},
   "source": [
    "* The Concept of Possitional Parameters (or) arguments says that \"The Number of Arguments of Function Call must be equal to the number of formal parameters in Function Heading\".\n",
    "* This Parameter mechanism also recommends to follow Order and Meaning of Parameters for Higher accuracy.\n",
    "* To pass the Specific Data from Function Call to Function Definition then we must take Possitional Argument Mechanism. \n",
    "* The default Parameter Passing Mechanism is Possitional  Arguments (or) Parameters."
   ]
  },
  {
   "cell_type": "markdown",
   "id": "f2065595",
   "metadata": {},
   "source": [
    "**Syntax** for Function Defining :\n",
    "\n",
    "\n",
    "def functionname(param1,param2.....param-n):"
   ]
  },
  {
   "cell_type": "markdown",
   "id": "0bac3c8d",
   "metadata": {},
   "source": [
    "**Syntax** for Function Call:\n",
    "\n",
    "functionname(arg1,arg2....arg-n)"
   ]
  },
  {
   "cell_type": "markdown",
   "id": "d03510a2",
   "metadata": {},
   "source": [
    "* Here the values of arg1,arg2...arg-n are passing to param-1,param-2..param-n respectively.\n",
    "* PVM gives First Priority to Possitional Arguments."
   ]
  },
  {
   "cell_type": "code",
   "execution_count": 10,
   "id": "4c60e8cd",
   "metadata": {},
   "outputs": [
    {
     "name": "stdout",
     "output_type": "stream",
     "text": [
      "5.0\n"
     ]
    }
   ],
   "source": [
    "def division(n,d):\n",
    "    print(n/d)\n",
    "    \n",
    "    \n",
    "division(10,2)# positional argument"
   ]
  },
  {
   "cell_type": "code",
   "execution_count": 11,
   "id": "ddcd699c",
   "metadata": {},
   "outputs": [
    {
     "name": "stdout",
     "output_type": "stream",
     "text": [
      "11 1.25\n"
     ]
    }
   ],
   "source": [
    "def cal(a, b, c):\n",
    "    x = a + b \n",
    "    y = a / c\n",
    "    print(x, y)\n",
    "\n",
    "cal(5, 6, 4)"
   ]
  },
  {
   "cell_type": "markdown",
   "id": "27d712e8",
   "metadata": {},
   "source": [
    "**2. Default Arguments**"
   ]
  },
  {
   "cell_type": "markdown",
   "id": "f3175656",
   "metadata": {},
   "source": [
    "* When there is a Common Value for family of Similar Function Calls then Such type of Common Value(s) must be taken  as default parameter with common value (But not recommended to pass by using Posstional Parameters)\n",
    "\n",
    "**Syntax** for Function Definition with Default Parameters\n",
    "\n",
    "def   functionname(param1,param2,....param-n-1=Val1, Param-n=Val2):\n",
    "    \n",
    "    \n"
   ]
  },
  {
   "cell_type": "markdown",
   "id": "12ba8d41",
   "metadata": {},
   "source": [
    "* Here param-n-1 and param-n are called \"default Parameters\".\n",
    "* and param1,param-2... are called \"Possitional parameters\".\n"
   ]
  },
  {
   "cell_type": "markdown",
   "id": "7e873f0d",
   "metadata": {},
   "source": [
    "* Rule-: When we use default parameters in the function definition, They must be used as last Parameter(s) otherwise we get Error( SyntaxError: non-default argument (Possitional ) follows default argument).\n"
   ]
  },
  {
   "cell_type": "code",
   "execution_count": 14,
   "id": "69c7d2e2",
   "metadata": {},
   "outputs": [
    {
     "name": "stdout",
     "output_type": "stream",
     "text": [
      "490.00000000000006\n"
     ]
    }
   ],
   "source": [
    "def cPotentialEnergy(m,h,g=9.8): # g is default argument\n",
    "    print(m*h*g)\n",
    "    \n",
    "    \n",
    "cPotentialEnergy(10,5)"
   ]
  },
  {
   "cell_type": "code",
   "execution_count": 15,
   "id": "86dfaa97",
   "metadata": {},
   "outputs": [
    {
     "name": "stdout",
     "output_type": "stream",
     "text": [
      "750\n"
     ]
    }
   ],
   "source": [
    "cPotentialEnergy(10,5,g=15)#change value of default argument"
   ]
  },
  {
   "cell_type": "code",
   "execution_count": 16,
   "id": "7f2b725b",
   "metadata": {},
   "outputs": [
    {
     "name": "stdout",
     "output_type": "stream",
     "text": [
      "hehaahaa\n"
     ]
    }
   ],
   "source": [
    "def fooConcatenationofstring(s1 :str ,s2='',n=1):\n",
    "    print((s1+s2)*n)\n",
    "    \n",
    "    \n",
    "    \n",
    "    \n",
    "fooConcatenationofstring('he',s2='haahaa')\n"
   ]
  },
  {
   "cell_type": "markdown",
   "id": "3a6ac7bb",
   "metadata": {},
   "source": [
    "**3. Keyword Arguments**"
   ]
  },
  {
   "cell_type": "markdown",
   "id": "d1c18273",
   "metadata": {},
   "source": [
    "* In some of the circumstances, we know the function name and formal parameter names and we don't know the order of formal Parameter names and to pass the data / values accurately we must use the concept of Keyword Parameters (or) arguments.\n",
    "* The implementation of Keyword Parameters (or) arguments says that all the formal parameter names used as arguments in Function call(s) as keys.\n",
    "\n",
    "**Syntax** for function defining:-\n"
   ]
  },
  {
   "cell_type": "markdown",
   "id": "152b3b58",
   "metadata": {},
   "source": [
    "def  functionname(param1,param2...param-n):"
   ]
  },
  {
   "cell_type": "markdown",
   "id": "13f3de9c",
   "metadata": {},
   "source": [
    "**Syntax** for function call:-\n"
   ]
  },
  {
   "cell_type": "markdown",
   "id": "7c4efd05",
   "metadata": {},
   "source": [
    "functionname(param-n=val-n,param1=val1,param-n-1=val-n-1,.........)"
   ]
  },
  {
   "cell_type": "markdown",
   "id": "c5243b41",
   "metadata": {},
   "source": [
    "* Here param-n=val-n,param1=val1,param-n-1=val-n-1,...... are called Keywords arguments\n",
    "* When we specify Keyword arguments before Possitional Arguments in Function Calls(s) then we get SyntaxError: positional argument follows keyword argument\n"
   ]
  },
  {
   "cell_type": "code",
   "execution_count": 18,
   "id": "a2c73144",
   "metadata": {},
   "outputs": [
    {
     "name": "stdout",
     "output_type": "stream",
     "text": [
      "5.0\n"
     ]
    }
   ],
   "source": [
    "def division(d,n):\n",
    "    print(n/d)\n",
    "    \n",
    "    \n",
    "division(n=10,d=2) #key word argument"
   ]
  },
  {
   "cell_type": "markdown",
   "id": "f60222c9",
   "metadata": {},
   "source": [
    "# Documentation strings\n",
    "* Documentation strings (or docstrings) provide a convenient way of associating documentation with Python modules, functions, classes, and methods.\n",
    "* It’s specified in source code that is used, like a comment, to document a specific segment of code. Unlike conventional source code comments, the docstring should describe what the function does, not how."
   ]
  },
  {
   "cell_type": "markdown",
   "id": "d079d13a",
   "metadata": {},
   "source": [
    "* **Declaring Docstrings:** The docstrings are declared using ”’triple single quotes”’ or “”” triple double quotes “”” just below the class, method, or function declaration. All functions should have a docstring.\n",
    "* **Accessing Docstrings:** The docstrings can be accessed using the __doc__ method of the object or using the help function. The below examples demonstrate how to declare and access a docstring."
   ]
  },
  {
   "cell_type": "code",
   "execution_count": 19,
   "id": "15eaa051",
   "metadata": {},
   "outputs": [
    {
     "name": "stdout",
     "output_type": "stream",
     "text": [
      "5.0\n"
     ]
    }
   ],
   "source": [
    "def division(d:float,n:float):\n",
    "    '''\n",
    "d=Denominator\n",
    "n=numerator\n",
    "'''\n",
    "    print(n/d)\n",
    "    \n",
    "    \n",
    "division(n=10,d=2)"
   ]
  },
  {
   "cell_type": "code",
   "execution_count": 20,
   "id": "8caabadc",
   "metadata": {},
   "outputs": [
    {
     "name": "stdout",
     "output_type": "stream",
     "text": [
      "\n",
      "d=Denominator\n",
      "n=numerator\n",
      "\n"
     ]
    }
   ],
   "source": [
    "print(division.__doc__)"
   ]
  },
  {
   "cell_type": "code",
   "execution_count": null,
   "id": "e5097d7c",
   "metadata": {},
   "outputs": [],
   "source": []
  }
 ],
 "metadata": {
  "kernelspec": {
   "display_name": "Python 3 (ipykernel)",
   "language": "python",
   "name": "python3"
  },
  "language_info": {
   "codemirror_mode": {
    "name": "ipython",
    "version": 3
   },
   "file_extension": ".py",
   "mimetype": "text/x-python",
   "name": "python",
   "nbconvert_exporter": "python",
   "pygments_lexer": "ipython3",
   "version": "3.9.13"
  }
 },
 "nbformat": 4,
 "nbformat_minor": 5
}
